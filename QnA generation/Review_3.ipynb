{
  "nbformat": 4,
  "nbformat_minor": 0,
  "metadata": {
    "colab": {
      "name": "Review 3.ipynb",
      "provenance": []
    },
    "kernelspec": {
      "name": "python3",
      "display_name": "Python 3"
    },
    "language_info": {
      "name": "python"
    }
  },
  "cells": [
    {
      "cell_type": "code",
      "execution_count": null,
      "metadata": {
        "colab": {
          "base_uri": "https://localhost:8080/"
        },
        "id": "5AEl-Yi_Te1J",
        "outputId": "d169ce24-a1ff-4631-ccdb-1de0426eff42"
      },
      "outputs": [
        {
          "output_type": "stream",
          "name": "stdout",
          "text": [
            "Cloning into 'question_generator'...\n",
            "remote: Enumerating objects: 248, done.\u001b[K\n",
            "remote: Counting objects: 100% (60/60), done.\u001b[K\n",
            "remote: Compressing objects: 100% (21/21), done.\u001b[K\n",
            "remote: Total 248 (delta 41), reused 39 (delta 39), pack-reused 188\u001b[K\n",
            "Receiving objects: 100% (248/248), 112.84 KiB | 4.70 MiB/s, done.\n",
            "Resolving deltas: 100% (128/128), done.\n"
          ]
        }
      ],
      "source": [
        "\n",
        "!pip install transformers\n"
      ]
    },
    {
      "cell_type": "markdown",
      "source": [
        "# New Section"
      ],
      "metadata": {
        "id": "QGswo50rHksJ"
      }
    },
    {
      "cell_type": "code",
      "source": [
        "cd question_generator"
      ],
      "metadata": {
        "colab": {
          "base_uri": "https://localhost:8080/"
        },
        "id": "O_5UoL1sU3jL",
        "outputId": "6bdecc11-d28f-49a6-b020-f34196183bb3"
      },
      "execution_count": null,
      "outputs": [
        {
          "output_type": "stream",
          "name": "stdout",
          "text": [
            "/content/question_generator\n"
          ]
        }
      ]
    },
    {
      "cell_type": "code",
      "source": [
        "cd question_generator"
      ],
      "metadata": {
        "colab": {
          "base_uri": "https://localhost:8080/"
        },
        "id": "yxWsh3uLVJIO",
        "outputId": "d3978c7a-2a95-45ad-8830-30b08d0ad918"
      },
      "execution_count": null,
      "outputs": [
        {
          "output_type": "stream",
          "name": "stdout",
          "text": [
            "[Errno 2] No such file or directory: 'question_generator'\n",
            "/content/question_generator\n"
          ]
        }
      ]
    },
    {
      "cell_type": "code",
      "source": [
        "!pip install -r requirements.txt -qq"
      ],
      "metadata": {
        "colab": {
          "base_uri": "https://localhost:8080/"
        },
        "id": "5DBkslF7VC7x",
        "outputId": "9d8b331a-f4b8-4341-98ca-d6969d0c2883"
      },
      "execution_count": null,
      "outputs": [
        {
          "output_type": "stream",
          "name": "stdout",
          "text": [
            "\u001b[K     |████████████████████████████████| 12.0 MB 13.5 MB/s \n",
            "\u001b[K     |████████████████████████████████| 298 kB 13.0 MB/s \n",
            "\u001b[K     |████████████████████████████████| 14.8 MB 62.6 MB/s \n",
            "\u001b[K     |████████████████████████████████| 1.2 MB 69.2 MB/s \n",
            "\u001b[K     |████████████████████████████████| 9.9 MB 27.7 MB/s \n",
            "\u001b[K     |████████████████████████████████| 3.3 MB 65.7 MB/s \n",
            "\u001b[K     |████████████████████████████████| 776.8 MB 19 kB/s \n",
            "\u001b[K     |████████████████████████████████| 3.1 MB 34.2 MB/s \n",
            "\u001b[K     |████████████████████████████████| 136 kB 67.0 MB/s \n",
            "\u001b[K     |████████████████████████████████| 212 kB 57.0 MB/s \n",
            "\u001b[K     |████████████████████████████████| 84 kB 2.5 MB/s \n",
            "\u001b[K     |████████████████████████████████| 1.1 MB 59.9 MB/s \n",
            "\u001b[K     |████████████████████████████████| 2.1 MB 37.5 MB/s \n",
            "\u001b[K     |████████████████████████████████| 596 kB 30.0 MB/s \n",
            "\u001b[K     |████████████████████████████████| 880 kB 29.9 MB/s \n",
            "\u001b[K     |████████████████████████████████| 94 kB 2.4 MB/s \n",
            "\u001b[K     |████████████████████████████████| 144 kB 36.0 MB/s \n",
            "\u001b[K     |████████████████████████████████| 271 kB 41.8 MB/s \n",
            "\u001b[?25h  Building wheel for en-core-web-sm (setup.py) ... \u001b[?25l\u001b[?25hdone\n",
            "  Building wheel for sacremoses (setup.py) ... \u001b[?25l\u001b[?25hdone\n",
            "\u001b[31mERROR: pip's dependency resolver does not currently take into account all the packages that are installed. This behaviour is the source of the following dependency conflicts.\n",
            "tensorflow 2.8.0+zzzcolab20220506162203 requires tf-estimator-nightly==2.8.0.dev2021122109, which is not installed.\n",
            "xarray-einstats 0.2.2 requires numpy>=1.21, but you have numpy 1.19.5 which is incompatible.\n",
            "torchvision 0.12.0+cu113 requires torch==1.11.0, but you have torch 1.7.1 which is incompatible.\n",
            "torchtext 0.12.0 requires torch==1.11.0, but you have torch 1.7.1 which is incompatible.\n",
            "torchaudio 0.11.0+cu113 requires torch==1.11.0, but you have torch 1.7.1 which is incompatible.\n",
            "tensorflow 2.8.0+zzzcolab20220506162203 requires numpy>=1.20, but you have numpy 1.19.5 which is incompatible.\n",
            "datascience 0.10.6 requires folium==0.2.1, but you have folium 0.8.3 which is incompatible.\n",
            "albumentations 0.1.12 requires imgaug<0.2.7,>=0.2.5, but you have imgaug 0.2.9 which is incompatible.\u001b[0m\n"
          ]
        }
      ]
    },
    {
      "cell_type": "code",
      "source": [
        "!python run_qg.py --text_file articles/twitter_hack.txt"
      ],
      "metadata": {
        "colab": {
          "base_uri": "https://localhost:8080/"
        },
        "id": "6NbuVMc8VxUe",
        "outputId": "b5dd9dc4-845b-4e70-b2b3-4c55e64a5312"
      },
      "execution_count": null,
      "outputs": [
        {
          "output_type": "stream",
          "name": "stdout",
          "text": [
            "Downloading: 100% 25.0/25.0 [00:00<00:00, 24.9kB/s]\n",
            "Downloading: 100% 1.18k/1.18k [00:00<00:00, 1.39MB/s]\n",
            "Downloading: 100% 773k/773k [00:00<00:00, 1.85MB/s]\n",
            "Downloading: 100% 39.0/39.0 [00:00<00:00, 41.5kB/s]\n",
            "Downloading: 100% 121/121 [00:00<00:00, 108kB/s]\n",
            "Downloading: 100% 850M/850M [00:17<00:00, 51.2MB/s]\n",
            "Downloading: 100% 49.0/49.0 [00:00<00:00, 49.3kB/s]\n",
            "Downloading: 100% 482/482 [00:00<00:00, 392kB/s]\n",
            "Downloading: 100% 208k/208k [00:00<00:00, 628kB/s]\n",
            "Downloading: 100% 112/112 [00:00<00:00, 109kB/s]\n",
            "Downloading: 100% 413M/413M [00:07<00:00, 54.3MB/s]\n",
            "Generating questions...\n",
            "\n",
            "Evaluating QA pairs...\n",
            "\n",
            "1) Q: How long did it take to get the Bitcoin to be sent to the address of his digital wallet?\n",
            "   A: \" On the official account of Mr Musk, the Tesla and SpaceX chief appeared to offer to double any Bitcoin payment sent to the address of his digital wallet \"for the next 30 minutes\".\n",
            "\n",
            "2) Q: How did the company fix the flaw?\n",
            "   A: Last year, Twitter chief executive Jack Dorsey's account was hacked, but the company said it had fixed the flaw that left his account vulnerable.\n",
            "\n",
            "3) Q: What did the campaign of Joe Biden say about the hack?\n",
            "   A: The campaign of Joe Biden, who is the current Democratic presidential candidate, said Twitter had \"locked down the account within a few minutes of the breach and removed the related tweet\".\n",
            "\n",
            "4) Q: What is the role of social media companies in the 2020 election?\n",
            "   A: \"Social media companies such as Twitter and, Facebook all have a duty to consider the damage and influence their platforms can have on the 2020 election, and I think some companies are taking that more seriously than others,\" she told the BBC.\n",
            "\n",
            "5) Q: How many followers do the targeted accounts have?\n",
            "   A: The Twitter accounts targeted have millions of followers.\n",
            "\n",
            "6) Q: What did the FBI say about the hack?\n",
            "   A: Twitter said the hackers had targeted its employees \"with access to internal systems and tools\".\n",
            "\n",
            "7) Q: How many tweets were deleted?\n",
            "   A: The tweets were deleted just minutes after they were first posted.\n",
            "\n",
            "8) Q: What is the real identity of the perpetrators?\n",
            "   A: \" In any case, the real identities of the perpetrators are as yet unknown.\n",
            "\n",
            "9) Q: What is the FBI's response to the hack?\n",
            "   A: The FBI has launched an investigation after hackers hijacked Twitter accounts of a number of high-profile US figures in an apparent Bitcoin scam.\n",
            "\n",
            "10) Q: What is the name of the hacker?\n",
            "    A: Cryptoforhealth is also a registered user name on Instagram, apparently set up contemporaneously to the hack.\n",
            "\n"
          ]
        }
      ]
    }
  ]
}